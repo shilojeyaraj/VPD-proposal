{
 "cells": [
  {
   "cell_type": "markdown",
   "metadata": {},
   "source": [
    "### 🧠 Tech Consulting Proposal Generator with Scoring Feedback Loop\n",
    "\n",
    "This notebook demonstrates how to use OpenAI's GPT model to:\n",
    "- Generate a proposal based on client input\n",
    "- Store and manage conversation context\n",
    "- Score the output based on a simple rubric\n",
    "- Feed the score back into the generation loop to improve quality\n",
    "\n",
    "**You will need your OpenAI API key to run this.**"
   ]
  },
  {
   "cell_type": "code",
   "execution_count": 1,
   "metadata": {},
   "outputs": [],
   "source": [
    "# 🔧 Setup\n",
    "import openai\n",
    "import os\n",
    "\n",
    "KEY = os.getenv(\"OPENAI_VPD_API_KEY\")\n",
    "openai.api_key = KEY\n",
    "\n",
    "#initialize client\n",
    "client = openai.OpenAI(api_key=KEY)\n",
    "\n",
    "# Initialize conversation history\n",
    "conversation = [\n",
    "    {\"role\": \"system\", \"content\": \"You are a tech consultant generating proposals tailored to clients' needs.\"}\n",
    "]"
   ]
  },
  {
   "cell_type": "code",
   "execution_count": null,
   "metadata": {},
   "outputs": [],
   "source": [
    "# ➕ Helper function to add a message\n",
    "def add_message(role, content):\n",
    "    conversation.append({\"role\": role, \"content\": content})\n",
    "\n",
    "# 🤖 Generate response\n",
    "def generate_response():\n",
    "    response = client.response.create(\n",
    "        model=\"gpt-4\",\n",
    "        messages=conversation\n",
    "    )\n",
    "    reply = response.output_text\n",
    "    add_message(\"assistant\", reply)\n",
    "    return reply"
   ]
  },
  {
   "cell_type": "code",
   "execution_count": null,
   "metadata": {},
   "outputs": [],
   "source": [
    "# 📝 Example: Add your prompt about the client\n",
    "user_input = \"Client is a logistics firm seeking a cloud-native inventory management solution.\"\n",
    "add_message(\"user\", user_input)\n",
    "proposal = generate_response()\n",
    "print(proposal)"
   ]
  },
  {
   "cell_type": "code",
   "execution_count": null,
   "metadata": {},
   "outputs": [],
   "source": [
    "# 📊 Score the proposal using a simple rubric\n",
    "def score_proposal(proposal):\n",
    "    rubric = {\n",
    "        \"clarity\": lambda p: int(len(p.split('.')) > 10),\n",
    "        \"technical depth\": lambda p: int('architecture' in p.lower() or 'API' in p),\n",
    "        \"client relevance\": lambda p: int('you' in p.lower() or 'your company' in p)\n",
    "    }\n",
    "    category_scores = {k: fn(proposal) for k, fn in rubric.items()}\n",
    "    total_score = sum(category_scores.values()) / len(rubric) * 10\n",
    "    return total_score, category_scores\n",
    "\n",
    "score, breakdown = score_proposal(proposal)\n",
    "print(f\"Total Score: {score:.2f}/10\")\n",
    "print(\"Breakdown:\", breakdown)"
   ]
  },
  {
   "cell_type": "code",
   "execution_count": null,
   "metadata": {},
   "outputs": [],
   "source": [
    "# 🔁 Improve the proposal based on the score\n",
    "feedback = f\"The proposal received the following scores: Clarity: {breakdown['clarity']}/1, Technical: {breakdown['technical depth']}/1, Relevance: {breakdown['client relevance']}/1.\"\n",
    "feedback += \" Please revise it to improve clarity and relevance.\"\n",
    "add_message(\"user\", feedback)\n",
    "improved_proposal = generate_response()\n",
    "print(improved_proposal)"
   ]
  }
 ],
 "metadata": {
  "kernelspec": {
   "display_name": ".venv",
   "language": "python",
   "name": "python3"
  },
  "language_info": {
   "codemirror_mode": {
    "name": "ipython",
    "version": 3
   },
   "file_extension": ".py",
   "mimetype": "text/x-python",
   "name": "python",
   "nbconvert_exporter": "python",
   "pygments_lexer": "ipython3",
   "version": "3.9.8"
  }
 },
 "nbformat": 4,
 "nbformat_minor": 5
}
